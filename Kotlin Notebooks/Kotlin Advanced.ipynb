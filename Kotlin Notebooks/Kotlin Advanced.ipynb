{
 "cells": [
  {
   "cell_type": "code",
   "execution_count": 1,
   "metadata": {},
   "outputs": [],
   "source": [
    "// Superclass (Parent Class)\n",
    "\n",
    "open class Car {\n",
    "    open val color: String = \"Metalic Black\"\n",
    "    open val length: Double = 2.5 //meters\n",
    "    open val breadth: Double = 1.5 //meters\n",
    "    \n",
    "    open fun startIgnition() {\n",
    "        val engineHP: Double = 345.5\n",
    "        println(\"Starting Engine with $engineHP kW\")\n",
    "    }\n",
    "    \n",
    "    open fun readEngineTemperature() {\n",
    "        println(\"Reading Engine Temperature...\")\n",
    "    }\n",
    "    \n",
    "    open fun startWipers() {\n",
    "        println(\"Starting Wipers...\")\n",
    "    }\n",
    "}"
   ]
  },
  {
   "cell_type": "code",
   "execution_count": 2,
   "metadata": {},
   "outputs": [],
   "source": [
    "// Subclass (Child Class)\n",
    "\n",
    "class BMW : Car() {\n",
    "    override val color: String = \"Blue\"\n",
    "    override val length: Double = 4.71\n",
    "    override val breadth: Double = 1.85\n",
    "    \n",
    "    override fun startIgnition() {\n",
    "        super.startIgnition()\n",
    "        println(\"Engine Started Successfully\")\n",
    "    }\n",
    "    \n",
    "    override fun readEngineTemperature() {\n",
    "        super.readEngineTemperature()\n",
    "    }\n",
    "    \n",
    "    override fun startWipers() {\n",
    "        super.startWipers()\n",
    "        println(\"Wipers are now running\")\n",
    "    }\n",
    "}"
   ]
  },
  {
   "cell_type": "code",
   "execution_count": 3,
   "metadata": {},
   "outputs": [
    {
     "name": "stdout",
     "output_type": "stream",
     "text": [
      "Color is Blue\n",
      "Length is 4.71 m\n",
      "Breadth is 1.85 m\n",
      "\n",
      "Starting Engine with 345.5 kW\n",
      "Engine Started Successfully\n",
      "Reading Engine Temperature...\n",
      "Starting Wipers...\n",
      "Wipers are now running\n"
     ]
    }
   ],
   "source": [
    "val bmw_car: BMW = BMW()\n",
    "val color = bmw_car.color\n",
    "val length = bmw_car.length\n",
    "val breadth = bmw_car.breadth\n",
    "\n",
    "println(\"Color is $color\")\n",
    "println(\"Length is $length m\")\n",
    "println(\"Breadth is $breadth m\\n\")\n",
    "\n",
    "bmw_car.startIgnition()\n",
    "bmw_car.readEngineTemperature()\n",
    "bmw_car.startWipers()"
   ]
  },
  {
   "cell_type": "code",
   "execution_count": 4,
   "metadata": {},
   "outputs": [],
   "source": [
    "// Abstract Classes\n",
    "\n",
    "abstract class CarAudioSystem() {\n",
    "    abstract val amplifier: String\n",
    "}"
   ]
  },
  {
   "cell_type": "code",
   "execution_count": 5,
   "metadata": {},
   "outputs": [
    {
     "name": "stderr",
     "output_type": "stream",
     "text": [
      "Line_4.jupyter.kts (3:19 - 35) Cannot create an instance of an abstract class"
     ]
    }
   ],
   "source": [
    "// You can't create an instance of an abstract class\n",
    "\n",
    "val audioSystem = CarAudioSystem()"
   ]
  },
  {
   "cell_type": "code",
   "execution_count": 6,
   "metadata": {},
   "outputs": [],
   "source": [
    "// More properties in car audio system\n",
    "\n",
    "abstract class CarAudioSystem(private var numSpeakers: Int, // min -> 2 | max -> 12\n",
    "                              private var initialVolume: Int, // min -> 0 | max -> 40\n",
    "                              private var maxPowerRating: Int, // Watts\n",
    "                              private var operatingVoltage: Int) // Volts\n",
    "{\n",
    "    \n",
    "    abstract val headUnit: String\n",
    "    abstract val amplifier: String\n",
    "    abstract val speakers: String\n",
    "    \n",
    "    // Volume Init\n",
    "    init {\n",
    "        println(\"Initializing Volume...\")\n",
    "        if (initialVolume < 0) {\n",
    "            println(\"Volume can't be less than 0 !\")\n",
    "            initialVolume = 0\n",
    "            println(\"Initial Volume set to min (0)\")\n",
    "        }\n",
    "        else if (initialVolume > 40) {\n",
    "            println(\"Volume can't be greater than 40 !\")\n",
    "            initialVolume = 40\n",
    "            println(\"Initial Volume set to max (40)\")\n",
    "        }\n",
    "        println()\n",
    "    }\n",
    "    \n",
    "    // Speakers Init\n",
    "    init {\n",
    "        println(\"Initializing Speakers...\")\n",
    "        if (numSpeakers < 2 || numSpeakers > 12) {\n",
    "            println(\"Invalid number of speakers found ! (min -> 2 | max -> 12)\")\n",
    "            numSpeakers = 2\n",
    "            println(\"Number of Speakers set to default (2)\")\n",
    "        }\n",
    "        println()\n",
    "    }\n",
    "    \n",
    "    private var volume: Int = initialVolume\n",
    "    \n",
    "    fun getMaxPower(): Int {\n",
    "        return maxPowerRating\n",
    "    }\n",
    "    \n",
    "    fun getMaxVoltage(): Int {\n",
    "        return operatingVoltage\n",
    "    }\n",
    "    \n",
    "    fun getNumSpeakers(): Int {\n",
    "        return numSpeakers\n",
    "    }\n",
    "    \n",
    "    fun getVolume(): Int {\n",
    "        return volume\n",
    "    }\n",
    "    \n",
    "    fun incVolume() {\n",
    "        volume++\n",
    "    }\n",
    "    \n",
    "    fun decVolume() {\n",
    "        volume--\n",
    "    }\n",
    "}"
   ]
  },
  {
   "cell_type": "code",
   "execution_count": 7,
   "metadata": {},
   "outputs": [],
   "source": [
    "// Defining BMW X3 Audio System\n",
    "\n",
    "class BMW_AudioSystem(model: String, numSpeakers: Int, initialVolume: Int) : CarAudioSystem(numSpeakers, initialVolume, 350, 12) {\n",
    "    override val headUnit = \"S676A\"\n",
    "    override val amplifier = \"Revenant\"\n",
    "    override val speakers = \"Bavsound Stage 1\"\n",
    "    public val bmwModel: String = model\n",
    "}"
   ]
  },
  {
   "cell_type": "code",
   "execution_count": 8,
   "metadata": {},
   "outputs": [
    {
     "name": "stdout",
     "output_type": "stream",
     "text": [
      "Initializing Volume...\n",
      "\n",
      "Initializing Speakers...\n",
      "\n",
      "BMW X3 Audio System\n",
      "===================================\n",
      "\n",
      "BMW Model: \t\t\tX3\n",
      "Audio System Model: \t\tS676A\n",
      "Amplifier Model: \t\tRevenant\n",
      "Max. Amplifier Power: \t\t350W\n",
      "Max. Operating Voltage: \t12V\n",
      "Speaker Package Model: \t\tBavsound Stage 1\n",
      "No. of Speakers Connected: \t8\n",
      "Current Volume: \t\t30\n",
      "\n",
      "===================================\n"
     ]
    }
   ],
   "source": [
    "// Creating an instance and getting different properties\n",
    "\n",
    "val bmw_x3_audio = BMW_AudioSystem(\"X3\", 8, 30)\n",
    "\n",
    "println(\"BMW X3 Audio System\")\n",
    "println(\"===================================\\n\")\n",
    "println(\"BMW Model: \\t\\t\\t${bmw_x3_audio.bmwModel}\")\n",
    "println(\"Audio System Model: \\t\\t${bmw_x3_audio.headUnit}\")\n",
    "println(\"Amplifier Model: \\t\\t${bmw_x3_audio.amplifier}\")\n",
    "println(\"Max. Amplifier Power: \\t\\t${bmw_x3_audio.getMaxPower()}W\")\n",
    "println(\"Max. Operating Voltage: \\t${bmw_x3_audio.getMaxVoltage()}V\")\n",
    "println(\"Speaker Package Model: \\t\\t${bmw_x3_audio.speakers}\")\n",
    "println(\"No. of Speakers Connected: \\t${bmw_x3_audio.getNumSpeakers()}\")\n",
    "println(\"Current Volume: \\t\\t${bmw_x3_audio.getVolume()}\")\n",
    "println(\"\\n===================================\")"
   ]
  },
  {
   "cell_type": "code",
   "execution_count": 9,
   "metadata": {},
   "outputs": [
    {
     "name": "stdout",
     "output_type": "stream",
     "text": [
      "Previous Volume: 30\n",
      "Increased Volume: 31\n",
      "\n",
      "Previous Volume: 31\n",
      "Decreased Volume: 28\n"
     ]
    }
   ],
   "source": [
    "/* Increasing and decreasing volume &\n",
    "   using with() to simplify code */\n",
    "\n",
    "with (bmw_x3_audio) {\n",
    "    // Increasing\n",
    "    println(\"Previous Volume: ${getVolume()}\")\n",
    "    incVolume()\n",
    "    println(\"Increased Volume: ${getVolume()}\\n\")\n",
    "\n",
    "    // Decreasing three times\n",
    "    println(\"Previous Volume: ${getVolume()}\")\n",
    "    repeat(3) { decVolume() }\n",
    "    println(\"Decreased Volume: ${getVolume()}\")\n",
    "}"
   ]
  }
 ],
 "metadata": {
  "kernelspec": {
   "display_name": "Kotlin",
   "language": "kotlin",
   "name": "kotlin"
  },
  "language_info": {
   "codemirror_mode": "text/x-kotlin",
   "file_extension": ".kt",
   "mimetype": "text/x-kotlin",
   "name": "kotlin",
   "pygments_lexer": "kotlin",
   "version": "1.4.30-dev-2223"
  }
 },
 "nbformat": 4,
 "nbformat_minor": 4
}
