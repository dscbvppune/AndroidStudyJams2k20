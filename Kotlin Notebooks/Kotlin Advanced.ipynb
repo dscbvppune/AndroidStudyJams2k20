{
 "cells": [
  {
   "cell_type": "code",
   "execution_count": null,
   "metadata": {},
   "outputs": [],
   "source": [
    "// Superclass (Parent Class)\n",
    "\n",
    "open class Car {\n",
    "    open val color: String = \"Red\"\n",
    "    open val length: Double = 2.5 //meters\n",
    "    open val breadth: Double = 1.5 //meters\n",
    "    \n",
    "    open fun startIgnition() {\n",
    "        val engineHP: Double = 600.7\n",
    "        println(\"Starting Engine with $engineHP horsepower\")\n",
    "    }\n",
    "    \n",
    "    private fun readEngineTemperature() {\n",
    "        println(\"Reading Engine Temperature\")\n",
    "    }\n",
    "    \n",
    "    public fun startWipers() {\n",
    "        println(\"Starting Wipers\")\n",
    "    }\n",
    "}"
   ]
  },
  {
   "cell_type": "code",
   "execution_count": 55,
   "metadata": {},
   "outputs": [
    {
     "name": "stderr",
     "output_type": "stream",
     "text": [
      "Line_54.jupyter.kts (13:5 - 13) 'public open fun readEngineTemperature(): Unit defined in Line_54_jupyter.BMW' has no access to 'private final fun readEngineTemperature(): Unit defined in Line_53_jupyter.Car', so it cannot override it\n",
      "Line_54.jupyter.kts (14:15 - 36) Cannot access 'readEngineTemperature': it is private in 'Car'"
     ]
    }
   ],
   "source": [
    "// Subclass (Child Class)\n",
    "\n",
    "class BMW : Car() {\n",
    "    override val color: String = \"Blue\"\n",
    "    override val length: Double = 2.7\n",
    "    override val breadth: Double = 1.6\n",
    "    \n",
    "    override fun startIgnition() {\n",
    "        super.startIgnition()\n",
    "        println(\"Engine Started Successfully\")\n",
    "    }\n",
    "    \n",
    "    override fun readEngineTemperature() {\n",
    "        super.readEngineTemperature()\n",
    "    }\n",
    "    \n",
    "    override fun startWipers() {\n",
    "        super.startWipers()\n",
    "    }\n",
    "}"
   ]
  },
  {
   "cell_type": "code",
   "execution_count": 57,
   "metadata": {},
   "outputs": [
    {
     "name": "stdout",
     "output_type": "stream",
     "text": [
      "Color is Blue\n",
      "Length is 2.7 m\n",
      "Breadth is 1.6 m\n",
      "\n",
      "Starting Engine with 600.7 horsepower\n",
      "Engine Started Successfully\n",
      "Reading Engine Temperature\n",
      "Starting Wipers\n"
     ]
    }
   ],
   "source": [
    "val bmw_car: BMW = BMW()\n",
    "val color = bmw_car.color\n",
    "val length = bmw_car.length\n",
    "val breadth = bmw_car.breadth\n",
    "\n",
    "println(\"Color is $color\")\n",
    "println(\"Length is $length m\")\n",
    "println(\"Breadth is $breadth m\\n\")\n",
    "\n",
    "bmw_car.startIgnition()\n",
    "bmw_car.readEngineTemperature()\n",
    "bmw_car.startWipers()"
   ]
  }
 ],
 "metadata": {
  "kernelspec": {
   "display_name": "Kotlin",
   "language": "kotlin",
   "name": "kotlin"
  },
  "language_info": {
   "codemirror_mode": "text/x-kotlin",
   "file_extension": ".kt",
   "mimetype": "text/x-kotlin",
   "name": "kotlin",
   "pygments_lexer": "kotlin",
   "version": "1.4.30-dev-2223"
  }
 },
 "nbformat": 4,
 "nbformat_minor": 4
}
