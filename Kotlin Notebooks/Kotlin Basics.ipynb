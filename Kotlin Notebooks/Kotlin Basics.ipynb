{
 "cells": [
  {
   "cell_type": "code",
   "execution_count": 1,
   "metadata": {},
   "outputs": [
    {
     "name": "stdout",
     "output_type": "stream",
     "text": [
      "Hello World\n"
     ]
    }
   ],
   "source": [
    "// Kotlin Hello World\n",
    "\n",
    "println(\"Hello World\")"
   ]
  },
  {
   "cell_type": "code",
   "execution_count": 2,
   "metadata": {},
   "outputs": [
    {
     "name": "stdout",
     "output_type": "stream",
     "text": [
      "6\n",
      "10\n",
      "13\n",
      "This is a string\n"
     ]
    }
   ],
   "source": [
    "// Datatypes\n",
    "\n",
    "val i: Int = 6\n",
    "var j: Int = 10\n",
    "\n",
    "println(i)\n",
    "println(j)\n",
    "\n",
    "val k: Double = 13.0\n",
    "\n",
    "println(k.toInt())\n",
    "\n",
    "var str: String = \"This is a string\"\n",
    "\n",
    "println(str)"
   ]
  },
  {
   "cell_type": "code",
   "execution_count": 3,
   "metadata": {},
   "outputs": [
    {
     "name": "stdout",
     "output_type": "stream",
     "text": [
      "j is greater\n",
      "i is in range of 50\n"
     ]
    }
   ],
   "source": [
    "// Conditionals\n",
    "\n",
    "if (i > j) {\n",
    "    println(\"i is greater\")\n",
    "}\n",
    "else {\n",
    "    println(\"j is greater\")\n",
    "}\n",
    "\n",
    "// ranges\n",
    "\n",
    "if (i in 1..50) {\n",
    "    println(\"i is in range of 50\")\n",
    "}"
   ]
  },
  {
   "cell_type": "code",
   "execution_count": 4,
   "metadata": {},
   "outputs": [
    {
     "name": "stdout",
     "output_type": "stream",
     "text": [
      "not in range\n"
     ]
    }
   ],
   "source": [
    "// when statement\n",
    "\n",
    "when (j) {\n",
    "    in 3..9 -> println(\"3 to 9\")\n",
    "    else -> println(\"not in range\")\n",
    "}"
   ]
  },
  {
   "cell_type": "code",
   "execution_count": 5,
   "metadata": {},
   "outputs": [
    {
     "name": "stdout",
     "output_type": "stream",
     "text": [
      "[mackerel, trout, halibut]\n",
      "[2, 4, 6, 8]\n",
      "[bhagvad geeta, the theory of everything, the unstoppable one]\n",
      "[2, bhagvad geeta]\n",
      "[mackerel, trout, halibut, bhagvad geeta, the theory of everything, the unstoppable one]\n"
     ]
    }
   ],
   "source": [
    "// arrays, lists\n",
    "\n",
    "var school = listOf(\"mackerel\", \"trout\", \"halibut\")\n",
    "println(school)\n",
    "\n",
    "var numStudents = listOf(2, 4, 6, 8)\n",
    "println(numStudents)\n",
    "\n",
    "// arrays\n",
    "\n",
    "val books = arrayOf(\"bhagvad geeta\", \"the theory of everything\", \"the unstoppable one\")\n",
    "\n",
    "println(java.util.Arrays.toString(books))\n",
    "\n",
    "// mixing of datatypes\n",
    "\n",
    "var mix = arrayOf(numStudents[0], books[0])\n",
    "println(java.util.Arrays.toString(mix))\n",
    "\n",
    "// combining arrays with + operator\n",
    "\n",
    "var combine = school + books\n",
    "println(combine)"
   ]
  },
  {
   "cell_type": "code",
   "execution_count": 6,
   "metadata": {},
   "outputs": [
    {
     "name": "stdout",
     "output_type": "stream",
     "text": [
      "bhagvad geeta\n",
      "the theory of everything\n",
      "the unstoppable one\n",
      "5 6 7 8 9 10 \n",
      "a b c d e "
     ]
    }
   ],
   "source": [
    "// loops (for)\n",
    "\n",
    "for (eachBook in books) {\n",
    "    println(eachBook)\n",
    "}\n",
    "\n",
    "for (i in 5..10) {\n",
    "    print(i.toString() + \" \")\n",
    "}\n",
    "\n",
    "println()\n",
    "\n",
    "for (ch in 'a'..'e') {\n",
    "    print(ch + \" \")\n",
    "}"
   ]
  },
  {
   "cell_type": "code",
   "execution_count": 7,
   "metadata": {},
   "outputs": [
    {
     "name": "stdout",
     "output_type": "stream",
     "text": [
      "50 bubbles in the water\n",
      "\n",
      "49 bubbles in the water\n",
      "\n",
      "A fish is swimming\n",
      "A fish is swimming\n",
      "A fish is swimming\n",
      "A fish is swimming\n",
      "A fish is swimming\n"
     ]
    }
   ],
   "source": [
    "// loops (while, do while)\n",
    "\n",
    "var bubbles = 0\n",
    "\n",
    "while (bubbles < 50) {\n",
    "    bubbles++\n",
    "}\n",
    "println(\"$bubbles bubbles in the water\\n\")\n",
    "\n",
    "do {\n",
    "    bubbles--\n",
    "} while (bubbles > 50)\n",
    "println(\"$bubbles bubbles in the water\\n\")\n",
    "\n",
    "// repeat function\n",
    "\n",
    "repeat(5) {\n",
    "     println(\"A fish is swimming\")\n",
    "}"
   ]
  },
  {
   "cell_type": "code",
   "execution_count": 8,
   "metadata": {},
   "outputs": [
    {
     "name": "stdout",
     "output_type": "stream",
     "text": [
      "10\n",
      "13\n"
     ]
    }
   ],
   "source": [
    "// Functions\n",
    "\n",
    "fun createVariable() {\n",
    "    var i: Int = 10\n",
    "    println(i)\n",
    "}\n",
    "\n",
    "createVariable()\n",
    "\n",
    "// Function Arguments\n",
    "\n",
    "fun userVariable(temp: Int) {\n",
    "    var temp1: Int = temp\n",
    "    println(temp1+1)\n",
    "}\n",
    "\n",
    "userVariable(12)"
   ]
  },
  {
   "cell_type": "code",
   "execution_count": 9,
   "metadata": {},
   "outputs": [
    {
     "name": "stdout",
     "output_type": "stream",
     "text": [
      "22\n",
      "2.0\n"
     ]
    }
   ],
   "source": [
    "// Classes\n",
    "\n",
    "class KotlinLearning {\n",
    "    var num1 = 10\n",
    "    var num2 = 12\n",
    "    \n",
    "    fun add() {\n",
    "        println(num1 + num2)\n",
    "    }\n",
    "}\n",
    "\n",
    "var ktl = KotlinLearning()\n",
    "ktl.add()\n",
    "\n",
    "// Class Arguments\n",
    "\n",
    "class DivideNums(n1: Double, n2: Double) {\n",
    "    var number1 = n1\n",
    "    var number2 = n2\n",
    "    \n",
    "    fun divide() {\n",
    "        println(number2/number1)\n",
    "    }\n",
    "}\n",
    "\n",
    "var div = DivideNums(5.0, 10.0)\n",
    "div.divide()"
   ]
  }
 ],
 "metadata": {
  "kernelspec": {
   "display_name": "Kotlin",
   "language": "kotlin",
   "name": "kotlin"
  },
  "language_info": {
   "codemirror_mode": "text/x-kotlin",
   "file_extension": ".kt",
   "mimetype": "text/x-kotlin",
   "name": "kotlin",
   "pygments_lexer": "kotlin",
   "version": "1.4.30-dev-2223"
  }
 },
 "nbformat": 4,
 "nbformat_minor": 4
}
